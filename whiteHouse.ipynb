{
 "cells": [
  {
   "cell_type": "code",
   "execution_count": 157,
   "metadata": {},
   "outputs": [
    {
     "data": {
      "text/html": [
       "<script>requirejs.config({paths: { 'plotly': ['https://cdn.plot.ly/plotly-latest.min']},});if(!window.Plotly) {{require(['plotly'],function(plotly) {window.Plotly=plotly;});}}</script>"
      ],
      "text/vnd.plotly.v1+html": [
       "<script>requirejs.config({paths: { 'plotly': ['https://cdn.plot.ly/plotly-latest.min']},});if(!window.Plotly) {{require(['plotly'],function(plotly) {window.Plotly=plotly;});}}</script>"
      ]
     },
     "metadata": {},
     "output_type": "display_data"
    }
   ],
   "source": [
    "%matplotlib inline\n",
    "import pandas as pd\n",
    "import numpy as np\n",
    "import matplotlib.pyplot as plt\n",
    "import seaborn as sb\n",
    "\n",
    "\n",
    "import plotly.plotly as py\n",
    "import plotly.graph_objs as go\n",
    "plotly.tools.set_credentials_file(username='karthikziffer', api_key='***************')\n",
    "plotly.offline.init_notebook_mode(connected= True)\n",
    "\n"
   ]
  },
  {
   "cell_type": "code",
   "execution_count": 2,
   "metadata": {},
   "outputs": [
    {
     "data": {
      "text/html": [
       "<div>\n",
       "<style scoped>\n",
       "    .dataframe tbody tr th:only-of-type {\n",
       "        vertical-align: middle;\n",
       "    }\n",
       "\n",
       "    .dataframe tbody tr th {\n",
       "        vertical-align: top;\n",
       "    }\n",
       "\n",
       "    .dataframe thead th {\n",
       "        text-align: right;\n",
       "    }\n",
       "</style>\n",
       "<table border=\"1\" class=\"dataframe\">\n",
       "  <thead>\n",
       "    <tr style=\"text-align: right;\">\n",
       "      <th></th>\n",
       "      <th>employee_name</th>\n",
       "      <th>salary</th>\n",
       "      <th>position</th>\n",
       "      <th>year</th>\n",
       "      <th>status</th>\n",
       "      <th>party</th>\n",
       "      <th>president</th>\n",
       "      <th>term</th>\n",
       "      <th>gender</th>\n",
       "    </tr>\n",
       "  </thead>\n",
       "  <tbody>\n",
       "    <tr>\n",
       "      <th>0</th>\n",
       "      <td>abraham, yohannes a</td>\n",
       "      <td>40000</td>\n",
       "      <td>legislative assistant and assistant to the hou...</td>\n",
       "      <td>2009</td>\n",
       "      <td>employee</td>\n",
       "      <td>democrat</td>\n",
       "      <td>obama</td>\n",
       "      <td>first</td>\n",
       "      <td>male</td>\n",
       "    </tr>\n",
       "    <tr>\n",
       "      <th>1</th>\n",
       "      <td>abrams, adam w</td>\n",
       "      <td>65000</td>\n",
       "      <td>western regional communications director</td>\n",
       "      <td>2009</td>\n",
       "      <td>employee</td>\n",
       "      <td>democrat</td>\n",
       "      <td>obama</td>\n",
       "      <td>first</td>\n",
       "      <td>male</td>\n",
       "    </tr>\n",
       "    <tr>\n",
       "      <th>2</th>\n",
       "      <td>adams, ian h</td>\n",
       "      <td>36000</td>\n",
       "      <td>executive assistant to the director of schedul...</td>\n",
       "      <td>2009</td>\n",
       "      <td>employee</td>\n",
       "      <td>democrat</td>\n",
       "      <td>obama</td>\n",
       "      <td>first</td>\n",
       "      <td>male</td>\n",
       "    </tr>\n",
       "    <tr>\n",
       "      <th>3</th>\n",
       "      <td>agnew, david p</td>\n",
       "      <td>92000</td>\n",
       "      <td>deputy director of intergovernmental affairs</td>\n",
       "      <td>2009</td>\n",
       "      <td>employee</td>\n",
       "      <td>democrat</td>\n",
       "      <td>obama</td>\n",
       "      <td>first</td>\n",
       "      <td>male</td>\n",
       "    </tr>\n",
       "    <tr>\n",
       "      <th>4</th>\n",
       "      <td>ahrens, rebecca a</td>\n",
       "      <td>42800</td>\n",
       "      <td>operator</td>\n",
       "      <td>2009</td>\n",
       "      <td>employee</td>\n",
       "      <td>democrat</td>\n",
       "      <td>obama</td>\n",
       "      <td>first</td>\n",
       "      <td>female</td>\n",
       "    </tr>\n",
       "  </tbody>\n",
       "</table>\n",
       "</div>"
      ],
      "text/plain": [
       "         employee_name  salary  \\\n",
       "0  abraham, yohannes a   40000   \n",
       "1       abrams, adam w   65000   \n",
       "2         adams, ian h   36000   \n",
       "3       agnew, david p   92000   \n",
       "4    ahrens, rebecca a   42800   \n",
       "\n",
       "                                            position  year    status  \\\n",
       "0  legislative assistant and assistant to the hou...  2009  employee   \n",
       "1           western regional communications director  2009  employee   \n",
       "2  executive assistant to the director of schedul...  2009  employee   \n",
       "3       deputy director of intergovernmental affairs  2009  employee   \n",
       "4                                           operator  2009  employee   \n",
       "\n",
       "      party president   term  gender  \n",
       "0  democrat     obama  first    male  \n",
       "1  democrat     obama  first    male  \n",
       "2  democrat     obama  first    male  \n",
       "3  democrat     obama  first    male  \n",
       "4  democrat     obama  first  female  "
      ]
     },
     "execution_count": 2,
     "metadata": {},
     "output_type": "execute_result"
    }
   ],
   "source": [
    "df = pd.read_csv('white-house-salaries.csv')\n",
    "df.head()"
   ]
  },
  {
   "cell_type": "markdown",
   "metadata": {},
   "source": [
    "## Employee - Part Time Salary "
   ]
  },
  {
   "cell_type": "code",
   "execution_count": 3,
   "metadata": {},
   "outputs": [
    {
     "name": "stdout",
     "output_type": "stream",
     "text": [
      "{'jolin': 50000, ' michele m': 50000, 'leitner-laserna': 21000, ' sofia i': 21000}\n"
     ]
    }
   ],
   "source": [
    "dfEmployeePT = df[df['status'] == 'employee (part-time)'][['employee_name' ,'salary' , 'gender']].reset_index(drop = True)\n",
    "empnamesPT = []\n",
    "dfEmployeePT['employee_name'].apply(lambda x : empnamesPT.append(x.split(',')[0:2]))\n",
    "\n",
    "\n",
    "empName_Salary = {empnamesPT[0][0] : dfEmployeePT['salary'][0] , \n",
    "                  empnamesPT[0][1] : dfEmployeePT['salary'][0] ,\n",
    "                  empnamesPT[1][0] : dfEmployeePT['salary'][1] , \n",
    "                  empnamesPT[1][1] : dfEmployeePT['salary'][1] }\n",
    "\n",
    "print(empName_Salary)"
   ]
  },
  {
   "cell_type": "code",
   "execution_count": 4,
   "metadata": {},
   "outputs": [
    {
     "data": {
      "image/png": "[encoded data removed]",
      "text/plain": [
       "<matplotlib.figure.Figure at 0x7f822c06c048>"
      ]
     },
     "metadata": {},
     "output_type": "display_data"
    }
   ],
   "source": [
    "lists = sorted(empName_Salary.items())\n",
    "x , y = zip(*lists)\n",
    "sb.barplot(x,y)\n",
    "plt.show()"
   ]
  },
  {
   "cell_type": "markdown",
   "metadata": {},
   "source": [
    "## Yearly Average Gender Pay "
   ]
  },
  {
   "cell_type": "code",
   "execution_count": 150,
   "metadata": {},
   "outputs": [
    {
     "data": {
      "text/html": [
       "<div>\n",
       "<style scoped>\n",
       "    .dataframe tbody tr th:only-of-type {\n",
       "        vertical-align: middle;\n",
       "    }\n",
       "\n",
       "    .dataframe tbody tr th {\n",
       "        vertical-align: top;\n",
       "    }\n",
       "\n",
       "    .dataframe thead th {\n",
       "        text-align: right;\n",
       "    }\n",
       "</style>\n",
       "<table border=\"1\" class=\"dataframe\">\n",
       "  <thead>\n",
       "    <tr style=\"text-align: right;\">\n",
       "      <th></th>\n",
       "      <th>gender</th>\n",
       "      <th>year</th>\n",
       "      <th>salary</th>\n",
       "    </tr>\n",
       "  </thead>\n",
       "  <tbody>\n",
       "    <tr>\n",
       "      <th>0</th>\n",
       "      <td>female</td>\n",
       "      <td>2001</td>\n",
       "      <td>51204.578947</td>\n",
       "    </tr>\n",
       "    <tr>\n",
       "      <th>1</th>\n",
       "      <td>female</td>\n",
       "      <td>2003</td>\n",
       "      <td>55657.013158</td>\n",
       "    </tr>\n",
       "    <tr>\n",
       "      <th>2</th>\n",
       "      <td>female</td>\n",
       "      <td>2004</td>\n",
       "      <td>55657.013158</td>\n",
       "    </tr>\n",
       "    <tr>\n",
       "      <th>3</th>\n",
       "      <td>female</td>\n",
       "      <td>2005</td>\n",
       "      <td>59580.292793</td>\n",
       "    </tr>\n",
       "    <tr>\n",
       "      <th>4</th>\n",
       "      <td>female</td>\n",
       "      <td>2006</td>\n",
       "      <td>60437.581081</td>\n",
       "    </tr>\n",
       "    <tr>\n",
       "      <th>5</th>\n",
       "      <td>female</td>\n",
       "      <td>2007</td>\n",
       "      <td>61666.703883</td>\n",
       "    </tr>\n",
       "    <tr>\n",
       "      <th>6</th>\n",
       "      <td>female</td>\n",
       "      <td>2008</td>\n",
       "      <td>64299.650943</td>\n",
       "    </tr>\n",
       "    <tr>\n",
       "      <th>7</th>\n",
       "      <td>female</td>\n",
       "      <td>2009</td>\n",
       "      <td>77205.759657</td>\n",
       "    </tr>\n",
       "    <tr>\n",
       "      <th>8</th>\n",
       "      <td>female</td>\n",
       "      <td>2010</td>\n",
       "      <td>80731.372727</td>\n",
       "    </tr>\n",
       "    <tr>\n",
       "      <th>9</th>\n",
       "      <td>female</td>\n",
       "      <td>2011</td>\n",
       "      <td>77617.306220</td>\n",
       "    </tr>\n",
       "    <tr>\n",
       "      <th>10</th>\n",
       "      <td>female</td>\n",
       "      <td>2012</td>\n",
       "      <td>76682.850679</td>\n",
       "    </tr>\n",
       "    <tr>\n",
       "      <th>11</th>\n",
       "      <td>female</td>\n",
       "      <td>2013</td>\n",
       "      <td>79499.995595</td>\n",
       "    </tr>\n",
       "    <tr>\n",
       "      <th>12</th>\n",
       "      <td>female</td>\n",
       "      <td>2014</td>\n",
       "      <td>78598.547085</td>\n",
       "    </tr>\n",
       "    <tr>\n",
       "      <th>13</th>\n",
       "      <td>female</td>\n",
       "      <td>2015</td>\n",
       "      <td>81020.810484</td>\n",
       "    </tr>\n",
       "    <tr>\n",
       "      <th>14</th>\n",
       "      <td>female</td>\n",
       "      <td>2016</td>\n",
       "      <td>82026.305556</td>\n",
       "    </tr>\n",
       "    <tr>\n",
       "      <th>15</th>\n",
       "      <td>female</td>\n",
       "      <td>2017</td>\n",
       "      <td>84509.813665</td>\n",
       "    </tr>\n",
       "    <tr>\n",
       "      <th>16</th>\n",
       "      <td>male</td>\n",
       "      <td>2001</td>\n",
       "      <td>65643.531915</td>\n",
       "    </tr>\n",
       "    <tr>\n",
       "      <th>17</th>\n",
       "      <td>male</td>\n",
       "      <td>2003</td>\n",
       "      <td>76958.608696</td>\n",
       "    </tr>\n",
       "    <tr>\n",
       "      <th>18</th>\n",
       "      <td>male</td>\n",
       "      <td>2004</td>\n",
       "      <td>76958.608696</td>\n",
       "    </tr>\n",
       "    <tr>\n",
       "      <th>19</th>\n",
       "      <td>male</td>\n",
       "      <td>2005</td>\n",
       "      <td>70580.637838</td>\n",
       "    </tr>\n",
       "    <tr>\n",
       "      <th>20</th>\n",
       "      <td>male</td>\n",
       "      <td>2006</td>\n",
       "      <td>71732.833333</td>\n",
       "    </tr>\n",
       "    <tr>\n",
       "      <th>21</th>\n",
       "      <td>male</td>\n",
       "      <td>2007</td>\n",
       "      <td>77198.745690</td>\n",
       "    </tr>\n",
       "    <tr>\n",
       "      <th>22</th>\n",
       "      <td>male</td>\n",
       "      <td>2008</td>\n",
       "      <td>83240.404255</td>\n",
       "    </tr>\n",
       "    <tr>\n",
       "      <th>23</th>\n",
       "      <td>male</td>\n",
       "      <td>2009</td>\n",
       "      <td>83300.314961</td>\n",
       "    </tr>\n",
       "    <tr>\n",
       "      <th>24</th>\n",
       "      <td>male</td>\n",
       "      <td>2010</td>\n",
       "      <td>84479.538153</td>\n",
       "    </tr>\n",
       "    <tr>\n",
       "      <th>25</th>\n",
       "      <td>male</td>\n",
       "      <td>2011</td>\n",
       "      <td>85303.861224</td>\n",
       "    </tr>\n",
       "    <tr>\n",
       "      <th>26</th>\n",
       "      <td>male</td>\n",
       "      <td>2012</td>\n",
       "      <td>84565.502024</td>\n",
       "    </tr>\n",
       "    <tr>\n",
       "      <th>27</th>\n",
       "      <td>male</td>\n",
       "      <td>2013</td>\n",
       "      <td>85035.540773</td>\n",
       "    </tr>\n",
       "    <tr>\n",
       "      <th>28</th>\n",
       "      <td>male</td>\n",
       "      <td>2014</td>\n",
       "      <td>86907.506438</td>\n",
       "    </tr>\n",
       "    <tr>\n",
       "      <th>29</th>\n",
       "      <td>male</td>\n",
       "      <td>2015</td>\n",
       "      <td>89081.566372</td>\n",
       "    </tr>\n",
       "    <tr>\n",
       "      <th>30</th>\n",
       "      <td>male</td>\n",
       "      <td>2016</td>\n",
       "      <td>86740.554545</td>\n",
       "    </tr>\n",
       "    <tr>\n",
       "      <th>31</th>\n",
       "      <td>male</td>\n",
       "      <td>2017</td>\n",
       "      <td>102595.666667</td>\n",
       "    </tr>\n",
       "  </tbody>\n",
       "</table>\n",
       "</div>"
      ],
      "text/plain": [
       "    gender  year         salary\n",
       "0   female  2001   51204.578947\n",
       "1   female  2003   55657.013158\n",
       "2   female  2004   55657.013158\n",
       "3   female  2005   59580.292793\n",
       "4   female  2006   60437.581081\n",
       "5   female  2007   61666.703883\n",
       "6   female  2008   64299.650943\n",
       "7   female  2009   77205.759657\n",
       "8   female  2010   80731.372727\n",
       "9   female  2011   77617.306220\n",
       "10  female  2012   76682.850679\n",
       "11  female  2013   79499.995595\n",
       "12  female  2014   78598.547085\n",
       "13  female  2015   81020.810484\n",
       "14  female  2016   82026.305556\n",
       "15  female  2017   84509.813665\n",
       "16    male  2001   65643.531915\n",
       "17    male  2003   76958.608696\n",
       "18    male  2004   76958.608696\n",
       "19    male  2005   70580.637838\n",
       "20    male  2006   71732.833333\n",
       "21    male  2007   77198.745690\n",
       "22    male  2008   83240.404255\n",
       "23    male  2009   83300.314961\n",
       "24    male  2010   84479.538153\n",
       "25    male  2011   85303.861224\n",
       "26    male  2012   84565.502024\n",
       "27    male  2013   85035.540773\n",
       "28    male  2014   86907.506438\n",
       "29    male  2015   89081.566372\n",
       "30    male  2016   86740.554545\n",
       "31    male  2017  102595.666667"
      ]
     },
     "execution_count": 150,
     "metadata": {},
     "output_type": "execute_result"
    }
   ],
   "source": [
    "yearPay = df.groupby(['gender' , 'year'] , as_index= False).mean()\n",
    "\n",
    "yearPay"
   ]
  },
  {
   "cell_type": "code",
   "execution_count": 147,
   "metadata": {},
   "outputs": [
    {
     "name": "stdout",
     "output_type": "stream",
     "text": [
      "    gender  year         salary\n",
      "0   female  2001   51204.578947\n",
      "1   female  2003   55657.013158\n",
      "2   female  2004   55657.013158\n",
      "3   female  2005   59580.292793\n",
      "4   female  2006   60437.581081\n",
      "5   female  2007   61666.703883\n",
      "6   female  2008   64299.650943\n",
      "7   female  2009   77205.759657\n",
      "8   female  2010   80731.372727\n",
      "9   female  2011   77617.306220\n",
      "10  female  2012   76682.850679\n",
      "11  female  2013   79499.995595\n",
      "12  female  2014   78598.547085\n",
      "13  female  2015   81020.810484\n",
      "14  female  2016   82026.305556\n",
      "15  female  2017   84509.813665\n",
      "16    male  2001   65643.531915\n",
      "17    male  2003   76958.608696\n",
      "18    male  2004   76958.608696\n",
      "19    male  2005   70580.637838\n",
      "20    male  2006   71732.833333\n",
      "21    male  2007   77198.745690\n",
      "22    male  2008   83240.404255\n",
      "23    male  2009   83300.314961\n",
      "24    male  2010   84479.538153\n",
      "25    male  2011   85303.861224\n",
      "26    male  2012   84565.502024\n",
      "27    male  2013   85035.540773\n",
      "28    male  2014   86907.506438\n",
      "29    male  2015   89081.566372\n",
      "30    male  2016   86740.554545\n",
      "31    male  2017  102595.666667\n"
     ]
    },
    {
     "data": {
      "text/html": [
       "<iframe id=\"igraph\" scrolling=\"no\" style=\"border:none;\" seamless=\"seamless\" src=\"https://plot.ly/~karthikziffer/82.embed\" height=\"525px\" width=\"100%\"></iframe>"
      ],
      "text/plain": [
       "<plotly.tools.PlotlyDisplay object>"
      ]
     },
     "execution_count": 147,
     "metadata": {},
     "output_type": "execute_result"
    }
   ],
   "source": [
    "heatmpFemale = go.Heatmap(z = [yearPay['salary'][:16]]  ,\n",
    "                   x = ['2001' , '2003' ,'2004' ,'2005' ,'2006' ,\n",
    "                       '2007' , '2008' , '2009' , '2010' ,\n",
    "                       '2011' , '2012' , '2013' , '2014' ,\n",
    "                       '2015' , '2016' , '2017' ] , \n",
    "                   y = ['female' ])\n",
    "\n",
    "\n",
    "data = [heatmpFemale]\n",
    "py.iplot(data)"
   ]
  },
  {
   "cell_type": "code",
   "execution_count": 149,
   "metadata": {},
   "outputs": [
    {
     "data": {
      "text/html": [
       "<iframe id=\"igraph\" scrolling=\"no\" style=\"border:none;\" seamless=\"seamless\" src=\"https://plot.ly/~karthikziffer/86.embed\" height=\"525px\" width=\"100%\"></iframe>"
      ],
      "text/plain": [
       "<plotly.tools.PlotlyDisplay object>"
      ]
     },
     "execution_count": 149,
     "metadata": {},
     "output_type": "execute_result"
    }
   ],
   "source": [
    "heatmpMale = go.Heatmap(z = [yearPay['salary'][16:32]]  ,\n",
    "                   x = ['2001' , '2003' ,'2004' ,'2005' ,'2006' ,\n",
    "                       '2007' , '2008' , '2009' , '2010' ,\n",
    "                       '2011' , '2012' , '2013' , '2014' ,\n",
    "                       '2015' , '2016' , '2017' ] , \n",
    "                   y = ['male'])\n",
    "\n",
    "\n",
    "data = [heatmpMale]\n",
    "py.iplot(data)"
   ]
  },
  {
   "cell_type": "markdown",
   "metadata": {},
   "source": [
    "## President Wise Average Gender Pay"
   ]
  },
  {
   "cell_type": "code",
   "execution_count": 6,
   "metadata": {},
   "outputs": [
    {
     "data": {
      "text/html": [
       "<div>\n",
       "<style scoped>\n",
       "    .dataframe tbody tr th:only-of-type {\n",
       "        vertical-align: middle;\n",
       "    }\n",
       "\n",
       "    .dataframe tbody tr th {\n",
       "        vertical-align: top;\n",
       "    }\n",
       "\n",
       "    .dataframe thead th {\n",
       "        text-align: right;\n",
       "    }\n",
       "</style>\n",
       "<table border=\"1\" class=\"dataframe\">\n",
       "  <thead>\n",
       "    <tr style=\"text-align: right;\">\n",
       "      <th></th>\n",
       "      <th></th>\n",
       "      <th></th>\n",
       "      <th>salary</th>\n",
       "    </tr>\n",
       "    <tr>\n",
       "      <th>president</th>\n",
       "      <th>gender</th>\n",
       "      <th>year</th>\n",
       "      <th></th>\n",
       "    </tr>\n",
       "  </thead>\n",
       "  <tbody>\n",
       "    <tr>\n",
       "      <th rowspan=\"14\" valign=\"top\">bush</th>\n",
       "      <th rowspan=\"7\" valign=\"top\">female</th>\n",
       "      <th>2001</th>\n",
       "      <td>51204.578947</td>\n",
       "    </tr>\n",
       "    <tr>\n",
       "      <th>2003</th>\n",
       "      <td>55657.013158</td>\n",
       "    </tr>\n",
       "    <tr>\n",
       "      <th>2004</th>\n",
       "      <td>55657.013158</td>\n",
       "    </tr>\n",
       "    <tr>\n",
       "      <th>2005</th>\n",
       "      <td>59580.292793</td>\n",
       "    </tr>\n",
       "    <tr>\n",
       "      <th>2006</th>\n",
       "      <td>60437.581081</td>\n",
       "    </tr>\n",
       "    <tr>\n",
       "      <th>2007</th>\n",
       "      <td>61666.703883</td>\n",
       "    </tr>\n",
       "    <tr>\n",
       "      <th>2008</th>\n",
       "      <td>64299.650943</td>\n",
       "    </tr>\n",
       "    <tr>\n",
       "      <th rowspan=\"7\" valign=\"top\">male</th>\n",
       "      <th>2001</th>\n",
       "      <td>65643.531915</td>\n",
       "    </tr>\n",
       "    <tr>\n",
       "      <th>2003</th>\n",
       "      <td>76958.608696</td>\n",
       "    </tr>\n",
       "    <tr>\n",
       "      <th>2004</th>\n",
       "      <td>76958.608696</td>\n",
       "    </tr>\n",
       "    <tr>\n",
       "      <th>2005</th>\n",
       "      <td>70580.637838</td>\n",
       "    </tr>\n",
       "    <tr>\n",
       "      <th>2006</th>\n",
       "      <td>71732.833333</td>\n",
       "    </tr>\n",
       "    <tr>\n",
       "      <th>2007</th>\n",
       "      <td>77198.745690</td>\n",
       "    </tr>\n",
       "    <tr>\n",
       "      <th>2008</th>\n",
       "      <td>83240.404255</td>\n",
       "    </tr>\n",
       "    <tr>\n",
       "      <th rowspan=\"16\" valign=\"top\">obama</th>\n",
       "      <th rowspan=\"8\" valign=\"top\">female</th>\n",
       "      <th>2009</th>\n",
       "      <td>77205.759657</td>\n",
       "    </tr>\n",
       "    <tr>\n",
       "      <th>2010</th>\n",
       "      <td>80731.372727</td>\n",
       "    </tr>\n",
       "    <tr>\n",
       "      <th>2011</th>\n",
       "      <td>77617.306220</td>\n",
       "    </tr>\n",
       "    <tr>\n",
       "      <th>2012</th>\n",
       "      <td>76682.850679</td>\n",
       "    </tr>\n",
       "    <tr>\n",
       "      <th>2013</th>\n",
       "      <td>79499.995595</td>\n",
       "    </tr>\n",
       "    <tr>\n",
       "      <th>2014</th>\n",
       "      <td>78598.547085</td>\n",
       "    </tr>\n",
       "    <tr>\n",
       "      <th>2015</th>\n",
       "      <td>81020.810484</td>\n",
       "    </tr>\n",
       "    <tr>\n",
       "      <th>2016</th>\n",
       "      <td>82026.305556</td>\n",
       "    </tr>\n",
       "    <tr>\n",
       "      <th rowspan=\"8\" valign=\"top\">male</th>\n",
       "      <th>2009</th>\n",
       "      <td>83300.314961</td>\n",
       "    </tr>\n",
       "    <tr>\n",
       "      <th>2010</th>\n",
       "      <td>84479.538153</td>\n",
       "    </tr>\n",
       "    <tr>\n",
       "      <th>2011</th>\n",
       "      <td>85303.861224</td>\n",
       "    </tr>\n",
       "    <tr>\n",
       "      <th>2012</th>\n",
       "      <td>84565.502024</td>\n",
       "    </tr>\n",
       "    <tr>\n",
       "      <th>2013</th>\n",
       "      <td>85035.540773</td>\n",
       "    </tr>\n",
       "    <tr>\n",
       "      <th>2014</th>\n",
       "      <td>86907.506438</td>\n",
       "    </tr>\n",
       "    <tr>\n",
       "      <th>2015</th>\n",
       "      <td>89081.566372</td>\n",
       "    </tr>\n",
       "    <tr>\n",
       "      <th>2016</th>\n",
       "      <td>86740.554545</td>\n",
       "    </tr>\n",
       "    <tr>\n",
       "      <th rowspan=\"2\" valign=\"top\">trump</th>\n",
       "      <th>female</th>\n",
       "      <th>2017</th>\n",
       "      <td>84509.813665</td>\n",
       "    </tr>\n",
       "    <tr>\n",
       "      <th>male</th>\n",
       "      <th>2017</th>\n",
       "      <td>102595.666667</td>\n",
       "    </tr>\n",
       "  </tbody>\n",
       "</table>\n",
       "</div>"
      ],
      "text/plain": [
       "                              salary\n",
       "president gender year               \n",
       "bush      female 2001   51204.578947\n",
       "                 2003   55657.013158\n",
       "                 2004   55657.013158\n",
       "                 2005   59580.292793\n",
       "                 2006   60437.581081\n",
       "                 2007   61666.703883\n",
       "                 2008   64299.650943\n",
       "          male   2001   65643.531915\n",
       "                 2003   76958.608696\n",
       "                 2004   76958.608696\n",
       "                 2005   70580.637838\n",
       "                 2006   71732.833333\n",
       "                 2007   77198.745690\n",
       "                 2008   83240.404255\n",
       "obama     female 2009   77205.759657\n",
       "                 2010   80731.372727\n",
       "                 2011   77617.306220\n",
       "                 2012   76682.850679\n",
       "                 2013   79499.995595\n",
       "                 2014   78598.547085\n",
       "                 2015   81020.810484\n",
       "                 2016   82026.305556\n",
       "          male   2009   83300.314961\n",
       "                 2010   84479.538153\n",
       "                 2011   85303.861224\n",
       "                 2012   84565.502024\n",
       "                 2013   85035.540773\n",
       "                 2014   86907.506438\n",
       "                 2015   89081.566372\n",
       "                 2016   86740.554545\n",
       "trump     female 2017   84509.813665\n",
       "          male   2017  102595.666667"
      ]
     },
     "execution_count": 6,
     "metadata": {},
     "output_type": "execute_result"
    }
   ],
   "source": [
    "df.groupby(['president' ,'gender' ,  'year']).mean()"
   ]
  },
  {
   "cell_type": "markdown",
   "metadata": {},
   "source": [
    "## Party Gender Hiring"
   ]
  },
  {
   "cell_type": "code",
   "execution_count": 73,
   "metadata": {},
   "outputs": [
    {
     "data": {
      "text/plain": [
       "<matplotlib.axes._subplots.AxesSubplot at 0x7f81ee492a20>"
      ]
     },
     "execution_count": 73,
     "metadata": {},
     "output_type": "execute_result"
    },
    {
     "data": {
      "image/png": "[encoded data removed]",
      "text/plain": [
       "<matplotlib.figure.Figure at 0x7f81ee4b2a58>"
      ]
     },
     "metadata": {},
     "output_type": "display_data"
    }
   ],
   "source": [
    "partGender = df.groupby(['party' , 'gender']).count()[['employee_name']]\n",
    "\n",
    "partGender.unstack().plot(kind = 'bar' , stacked = True , color = [ '#ADEAEA' , '#009ACD'] , grid = False )"
   ]
  },
  {
   "cell_type": "markdown",
   "metadata": {},
   "source": [
    "## Histogram Plot for Year 2017"
   ]
  },
  {
   "cell_type": "code",
   "execution_count": 153,
   "metadata": {},
   "outputs": [
    {
     "data": {
      "text/html": [
       "<iframe id=\"igraph\" scrolling=\"no\" style=\"border:none;\" seamless=\"seamless\" src=\"https://plot.ly/~karthikziffer/14.embed\" height=\"525px\" width=\"100%\"></iframe>"
      ],
      "text/plain": [
       "<plotly.tools.PlotlyDisplay object>"
      ]
     },
     "execution_count": 153,
     "metadata": {},
     "output_type": "execute_result"
    }
   ],
   "source": [
    "topEarners = df[df['year'] == 2017][['salary' , 'gender']].sort_values('salary').reset_index(drop = True)\n",
    "topEarnersMale = topEarners[topEarners['gender'] == 'male']\n",
    "topEarnersFemale = topEarners[topEarners['gender'] == 'female']\n",
    "\n",
    "female = go.Histogram(x = topEarnersFemale['salary'] , name = 'female salary' , marker=dict(\n",
    "        color='#00FFFF')\n",
    "    )\n",
    "male = go.Histogram( x = topEarnersMale['salary'] , name = 'male salary' , marker=dict(\n",
    "        color='#007FFF'\n",
    "    ))\n",
    "\n",
    "data = [female , male]\n",
    "layout = go.Layout(barmode = 'stack')\n",
    "fig = go.Figure(data = data , layout = layout)\n",
    "\n",
    "py.iplot(fig , filename = 'Male Female Salary Stacked Histogram')\n",
    "\n"
   ]
  },
  {
   "cell_type": "markdown",
   "metadata": {},
   "source": [
    "## Styled Histogram"
   ]
  },
  {
   "cell_type": "code",
   "execution_count": 154,
   "metadata": {},
   "outputs": [
    {
     "data": {
      "text/html": [
       "<iframe id=\"igraph\" scrolling=\"no\" style=\"border:none;\" seamless=\"seamless\" src=\"https://plot.ly/~karthikziffer/16.embed\" height=\"525px\" width=\"100%\"></iframe>"
      ],
      "text/plain": [
       "<plotly.tools.PlotlyDisplay object>"
      ]
     },
     "execution_count": 154,
     "metadata": {},
     "output_type": "execute_result"
    }
   ],
   "source": [
    "male = go.Histogram(\n",
    "    x = topEarnersMale['salary'],\n",
    "    histnorm='count',\n",
    "    name='male',\n",
    "    marker=dict(\n",
    "        color='#00FFFF',\n",
    "    ),\n",
    "    opacity=0.75\n",
    "    )\n",
    "\n",
    "\n",
    "female = go.Histogram(\n",
    "    x = topEarnersFemale['salary'],\n",
    "    name='female',\n",
    "    marker=dict(\n",
    "        color='#007FFF'\n",
    "    ),\n",
    "    opacity=0.75\n",
    ")\n",
    "\n",
    "\n",
    "data = [male , female]\n",
    "\n",
    "layout = go.Layout(\n",
    "    title='Gender Pay',\n",
    "    xaxis=dict(\n",
    "        title='Gender'\n",
    "    ),\n",
    "    yaxis=dict(\n",
    "        title='Count'\n",
    "    ),\n",
    "    bargap=0.2,\n",
    "    bargroupgap=0.1\n",
    ")\n",
    "fig = go.Figure(data=data, layout=layout)\n",
    "py.iplot(fig, filename='styled histogram')"
   ]
  },
  {
   "cell_type": "markdown",
   "metadata": {},
   "source": [
    "## Cumulative Histogram"
   ]
  },
  {
   "cell_type": "code",
   "execution_count": 155,
   "metadata": {},
   "outputs": [
    {
     "data": {
      "text/html": [
       "<iframe id=\"igraph\" scrolling=\"no\" style=\"border:none;\" seamless=\"seamless\" src=\"https://plot.ly/~karthikziffer/88.embed\" height=\"525px\" width=\"100%\"></iframe>"
      ],
      "text/plain": [
       "<plotly.tools.PlotlyDisplay object>"
      ]
     },
     "execution_count": 155,
     "metadata": {},
     "output_type": "execute_result"
    }
   ],
   "source": [
    "data = [go.Histogram(x=df['salary'], cumulative=dict(enabled=True))]\n",
    "\n",
    "py.iplot(data, filename='Cumulative Histogram of Salary')"
   ]
  },
  {
   "cell_type": "code",
   "execution_count": null,
   "metadata": {},
   "outputs": [],
   "source": [
    "\n"
   ]
  }
 ],
 "metadata": {
  "kernelspec": {
   "display_name": "Python 3",
   "language": "python",
   "name": "python3"
  },
  "language_info": {
   "codemirror_mode": {
    "name": "ipython",
    "version": 3
   },
   "file_extension": ".py",
   "mimetype": "text/x-python",
   "name": "python",
   "nbconvert_exporter": "python",
   "pygments_lexer": "ipython3",
   "version": "3.6.4"
  }
 },
 "nbformat": 4,
 "nbformat_minor": 2
}
